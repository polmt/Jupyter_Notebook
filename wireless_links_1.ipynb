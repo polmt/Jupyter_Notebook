{
 "cells": [
  {
   "cell_type": "markdown",
   "id": "aeb888c9",
   "metadata": {},
   "source": [
    "$$ Ασύρματες \\space Ζεύξεις \\space 1 $$"
   ]
  },
  {
   "cell_type": "markdown",
   "id": "78c95c21",
   "metadata": {},
   "source": [
    "$$ a = 3, \\space b = 0 $$"
   ]
  },
  {
   "cell_type": "markdown",
   "id": "73a500b5",
   "metadata": {},
   "source": [
    "## Άσκηση 1"
   ]
  },
  {
   "cell_type": "code",
   "execution_count": 57,
   "id": "91ffacd9",
   "metadata": {},
   "outputs": [],
   "source": [
    "%matplotlib inline\n",
    "import matplotlib.pyplot as plt\n",
    "import numpy as np\n",
    "import math\n",
    "import pylab\n",
    "class color:\n",
    "   BOLD = '\\033[1m'\n",
    "   END = '\\033[0m'"
   ]
  },
  {
   "cell_type": "markdown",
   "id": "d3b619f9",
   "metadata": {},
   "source": [
    "$$ f = 10^{a+2} = 10^{3+2} = 10^5 \\space (Hz) = 100 \\space (kHz) \\\\\n",
    "E_x = 0.5(b+1) = 0.5(0+1) = 0.5 \\space (\\frac{V}{m}) $$"
   ]
  },
  {
   "cell_type": "code",
   "execution_count": 58,
   "id": "fea0fe47",
   "metadata": {},
   "outputs": [],
   "source": [
    "c_0 = 299792458\n",
    "μ_0 = 4*np.pi*10**(-7)\n",
    "ε_0 = 8.854*10**(-12)\n",
    "μ_r = 1\n",
    "ε_r = 4\n",
    "f = 10**5\n",
    "E_x = 0.5"
   ]
  },
  {
   "cell_type": "markdown",
   "id": "1d2c5ce1",
   "metadata": {},
   "source": [
    "$$ α) \\space Φασική \\space ταχύτητα \\space (\\frac{m}{s}): \\\\\n",
    "v_p = \\frac{ω}{β} = \\frac{ω}{ω\\sqrt{με}} = \\frac{1}{\\sqrt{με}} \\\\\n",
    "μ=μ_rμ_0, \\space ε=ε_rε_0 \\\\\n",
    "Αφού \\space το \\space κύμα \\space διαδίδεται \\space στον \\space ελέυθερο \\space χώρο, \\space μ_r=1 \\space και \\space ε_r=1: \\\\\n",
    "v_p = \\frac{1}{\\sqrt{μ_0ε_0}} = \\frac{1}{\\sqrt{4π10^{-7} \\cdot 8,854 \\cdot 10^{-12}}} \\approx c_0 $$"
   ]
  },
  {
   "cell_type": "code",
   "execution_count": 59,
   "id": "db53b1e6",
   "metadata": {
    "scrolled": true
   },
   "outputs": [
    {
     "name": "stdout",
     "output_type": "stream",
     "text": [
      "\u001b[1mv_p1 = 299795637.69 m/s\u001b[0m\n"
     ]
    }
   ],
   "source": [
    "v_p1 = 1/np.sqrt(μ_0*ε_0)\n",
    "print (color.BOLD + 'v_p1 =', '%.2f' % v_p1, 'm/s' + color.END)"
   ]
  },
  {
   "attachments": {},
   "cell_type": "markdown",
   "id": "d08aa514",
   "metadata": {},
   "source": [
    "$ v_p = 299795637.69 \\space \\frac{m}{s} $"
   ]
  },
  {
   "cell_type": "markdown",
   "id": "2e1c9345",
   "metadata": {},
   "source": [
    "$$ Φασική \\space ταχύτητα  \\space (\\frac{m}{s}), \\\\\n",
    "για \\space ε_r=4 \\space και \\space μ_r=1: \\\\\n",
    "v_p' = \\frac{1}{\\sqrt{μ_rμ_0ε_rε_0}} = \\frac{1}{\\sqrt{1 \\cdot 4π10^{-7} \\cdot 4 \\cdot 8,854 \\cdot 10^{-12}}} $$"
   ]
  },
  {
   "cell_type": "code",
   "execution_count": 60,
   "id": "c6a83b15",
   "metadata": {},
   "outputs": [
    {
     "name": "stdout",
     "output_type": "stream",
     "text": [
      "\u001b[1mv_p2 = 149897818.85 m/s\u001b[0m\n"
     ]
    }
   ],
   "source": [
    "v_p2 = 1/np.sqrt(μ_r*μ_0*ε_r*ε_0)\n",
    "print (color.BOLD + 'v_p2 =', '%.2f' % v_p2, 'm/s' + color.END)"
   ]
  },
  {
   "attachments": {},
   "cell_type": "markdown",
   "id": "69c579cd",
   "metadata": {},
   "source": [
    "$ v_p' = 149897818.85 \\space \\frac{m}{s} $"
   ]
  },
  {
   "cell_type": "markdown",
   "id": "a72b5194",
   "metadata": {},
   "source": [
    "$$ Μήκος \\space κύματος \\space (m): \\\\\n",
    "λ = \\frac{2π}{β} = \\frac{2π}{ω\\sqrt{με}} = \\frac{2π}{2πf\\sqrt{μ_0ε_0}} = \\frac{1}{f\\sqrt{με}} = \\frac{1}{f\\sqrt{μ_0ε_0}} \\approx \\frac{c_0}{f} $$"
   ]
  },
  {
   "cell_type": "code",
   "execution_count": 61,
   "id": "225791df",
   "metadata": {},
   "outputs": [
    {
     "name": "stdout",
     "output_type": "stream",
     "text": [
      "\u001b[1mλ1 = 2997.96 m = 2.998 km\u001b[0m\n"
     ]
    }
   ],
   "source": [
    "λ1 = 1/(f*np.sqrt(μ_0*ε_0))\n",
    "print (color.BOLD + 'λ1 =', '%.2f' % λ1, 'm', '=', '%.3f' % (λ1/10**3), 'km' + color.END)"
   ]
  },
  {
   "attachments": {},
   "cell_type": "markdown",
   "id": "5824636f",
   "metadata": {},
   "source": [
    "$ λ = 2.998 \\space km $"
   ]
  },
  {
   "cell_type": "markdown",
   "id": "5e7c52c4",
   "metadata": {},
   "source": [
    "$$ Μήκος \\space κύματος \\space (m), \\\\\n",
    "για \\space ε_r=4 \\space και \\space μ_r=1: \\\\\n",
    "λ' = \\frac{1}{f\\sqrt{μ_rμ_0ε_rε_0}} $$"
   ]
  },
  {
   "cell_type": "code",
   "execution_count": 62,
   "id": "fd74e3eb",
   "metadata": {},
   "outputs": [
    {
     "name": "stdout",
     "output_type": "stream",
     "text": [
      "\u001b[1mλ2 = 1498.98 m = 1.499 km\u001b[0m\n"
     ]
    }
   ],
   "source": [
    "λ2 = 1/(f*np.sqrt(μ_r*μ_0*ε_r*ε_0))\n",
    "print (color.BOLD + 'λ2 =', '%.2f' % λ2, 'm', '=', '%.3f' % (λ2/10**3), 'km' + color.END)"
   ]
  },
  {
   "attachments": {},
   "cell_type": "markdown",
   "id": "cbaf5c6c",
   "metadata": {},
   "source": [
    "$ λ' = 1.499 \\space km $"
   ]
  },
  {
   "cell_type": "markdown",
   "id": "9d8332ea",
   "metadata": {},
   "source": [
    "$$ Σταθερά \\space διάδοσης \\space (\\frac{rad}{m}): \\\\\n",
    "β=ω\\sqrt{με} = 2πf\\sqrt{με} = 2πf\\sqrt{μ_0ε_0} $$"
   ]
  },
  {
   "cell_type": "code",
   "execution_count": 63,
   "id": "22e7d2ce",
   "metadata": {},
   "outputs": [
    {
     "name": "stdout",
     "output_type": "stream",
     "text": [
      "\u001b[1mβ1 = 0.002096 rad/m\u001b[0m\n"
     ]
    }
   ],
   "source": [
    "β1 = 2*np.pi*f*np.sqrt(μ_0*ε_0)\n",
    "print (color.BOLD + 'β1 =', '%.6f' % β1, 'rad/m' + color.END)"
   ]
  },
  {
   "attachments": {},
   "cell_type": "markdown",
   "id": "d50f1b1f",
   "metadata": {},
   "source": [
    "$ β = 0.002096 \\space \\frac{rad}{m} $"
   ]
  },
  {
   "cell_type": "markdown",
   "id": "2027b237",
   "metadata": {},
   "source": [
    "$$ Σταθερά \\space διάδοσης \\space (\\frac{rad}{m}), \\\\\n",
    "για \\space ε_r=4 \\space και \\space μ_r=1: \\\\\n",
    "β' = 2πf\\sqrt{μ_rμ_0ε_rε_0} $$"
   ]
  },
  {
   "cell_type": "code",
   "execution_count": 64,
   "id": "c6e9e489",
   "metadata": {
    "scrolled": true
   },
   "outputs": [
    {
     "name": "stdout",
     "output_type": "stream",
     "text": [
      "\u001b[1mβ2 = 0.004192 rad/m\u001b[0m\n"
     ]
    }
   ],
   "source": [
    "β2 = 2*np.pi*f*np.sqrt(μ_r*μ_0*ε_r*ε_0)\n",
    "print (color.BOLD + 'β2 =', '%.6f' % β2, 'rad/m' + color.END)"
   ]
  },
  {
   "attachments": {},
   "cell_type": "markdown",
   "id": "41e58730",
   "metadata": {},
   "source": [
    "$ β' = 0.004192 \\space \\frac{rad}{m} $"
   ]
  },
  {
   "cell_type": "markdown",
   "id": "985c2ac9",
   "metadata": {},
   "source": [
    "$$ β) \\space Χαρακτηριστική \\space αντίσταση \\space μέσου \\space διάδοσης \\space (Ω): \\\\\n",
    "Z_w = \\sqrt{\\frac{iωμ}{σ+iωε}} = \\sqrt{\\frac{iωμ}{iωε}} = \\sqrt{\\frac{μ}{ε}} = \\sqrt{\\frac{μ_0}{ε_0}} = η_0 $$"
   ]
  },
  {
   "cell_type": "code",
   "execution_count": 65,
   "id": "2a279a9c",
   "metadata": {},
   "outputs": [
    {
     "name": "stdout",
     "output_type": "stream",
     "text": [
      "\u001b[1mZ_w1 = 376.7 Ω\u001b[0m\n"
     ]
    }
   ],
   "source": [
    "Z_w1 = np.sqrt(μ_0/ε_0)\n",
    "print (color.BOLD + 'Z_w1 =', '%.1f' % Z_w1, 'Ω' + color.END)"
   ]
  },
  {
   "attachments": {},
   "cell_type": "markdown",
   "id": "bdcf80dd",
   "metadata": {},
   "source": [
    "$ Z_w = 376.7 \\space Ω $"
   ]
  },
  {
   "cell_type": "markdown",
   "id": "03ba1804",
   "metadata": {},
   "source": [
    "$$ Χαρακτηριστική \\space αντίσταση \\space μέσου \\space διάδοσης \\space (Ω), \\\\\n",
    "για \\space ε_r=4 \\space και \\space μ_r=1: \\\\\n",
    "Z_w' = \\sqrt{\\frac{μ}{ε}} = \\sqrt{\\frac{μ_rμ_0}{ε_rε_0}} = η $$"
   ]
  },
  {
   "cell_type": "code",
   "execution_count": 66,
   "id": "212294ea",
   "metadata": {},
   "outputs": [
    {
     "name": "stdout",
     "output_type": "stream",
     "text": [
      "\u001b[1mZ_w2 = 188.4 Ω\u001b[0m\n"
     ]
    }
   ],
   "source": [
    "Z_w2 = np.sqrt((μ_r*μ_0)/(ε_r*ε_0))\n",
    "print (color.BOLD + 'Z_w2 =', '%.1f' % Z_w2, 'Ω' + color.END)"
   ]
  },
  {
   "attachments": {},
   "cell_type": "markdown",
   "id": "65295cd5",
   "metadata": {},
   "source": [
    "$ Z_w' = 188.4 \\space Ω $"
   ]
  },
  {
   "cell_type": "markdown",
   "id": "7e20f11f",
   "metadata": {},
   "source": [
    "$$ γ) \\space Πλάτος \\space μαγνητικού \\space πεδίου \\space (\\frac{A}{m}): \\\\\n",
    "\\tilde E = \\mid E_x \\mid e^{-iβz} \\hat x , στο \\space πεδίο \\space των \\space συχνοτήτων \\\\\n",
    "\\nabla \\times \\tilde Ε = -iωμ \\tilde H \\space \\Rightarrow \\space \\tilde H = - \\frac{\\nabla \\times \\tilde Ε}{iωμ} \\\\\n",
    "\\nabla \\times \\tilde Ε =\n",
    "\\begin{vmatrix} \\hat x & \\hat y & \\hat z \\\\ \\frac{\\partial}{\\partial x} & \\frac{\\partial}{\\partial y} & \\frac{\\partial}{\\partial z} \\\\ \\tilde E_x & \\tilde E_y & \\tilde E_z \\end {vmatrix} = (\\frac{\\partial \\tilde E_z}{\\partial y} - \\frac{\\partial \\tilde E_y}{\\partial z}) \\cdot \\hat x - (\\frac{\\partial \\tilde E_z}{\\partial x} - \\frac{\\partial \\tilde E_x}{\\partial z}) \\cdot \\hat y + (\\frac{\\partial \\tilde E_y}{\\partial x} - \\frac{\\partial \\tilde E_x}{\\partial y}) \\cdot \\hat z = \\\\\n",
    "- ( - \\frac{\\partial \\tilde E_x}{\\partial z}) \\cdot \\hat y = -iβ \\mid E_x \\mid e^{-iβz} \\cdot \\hat y \\Rightarrow \\\\\n",
    "\\tilde H = - \\frac{-iβ \\mid E_x \\mid e^{-iβz}}{iωμ} \\cdot \\hat y = \\frac{iω\\sqrt{με} \\mid E_x \\mid e^{-iβz}}{iωμ} \\cdot \\hat y = \\sqrt \\frac {ε}{μ} \\mid E_x \\mid e^{-iβz} \\cdot \\hat y = \\sqrt \\frac {ε_0}{μ_0} \\mid E_x \\mid e^{-iβz} \\cdot \\hat y \\\\\n",
    "\\mid \\tilde H \\mid = \\sqrt {\\frac {ε_0}{μ_0}} \\mid E_x \\mid = \\frac{\\mid E_x \\mid}{η_0} $$"
   ]
  },
  {
   "cell_type": "code",
   "execution_count": 67,
   "id": "cb9e1e94",
   "metadata": {},
   "outputs": [
    {
     "name": "stdout",
     "output_type": "stream",
     "text": [
      "\u001b[1mH_nab1 = 0.00133 A/m = 1.33 mA/m\u001b[0m\n"
     ]
    }
   ],
   "source": [
    "H_nab1 = np.sqrt(ε_0/μ_0)*E_x\n",
    "print (color.BOLD + 'H_nab1 =', '%.5f' % H_nab1, 'A/m', '=', '%.2f' % (H_nab1*1000),'mA/m' + color.END)"
   ]
  },
  {
   "attachments": {},
   "cell_type": "markdown",
   "id": "070f976d",
   "metadata": {},
   "source": [
    "$ \\mid \\tilde H \\mid = 1.33 \\space \\frac{mA}{m} $"
   ]
  },
  {
   "attachments": {},
   "cell_type": "markdown",
   "id": "d78a4639",
   "metadata": {},
   "source": [
    "$$ Πλάτος \\space μαγνητικού \\space πεδίου \\space (\\frac{A}{m}), \\\\\n",
    "για \\space ε_r=4 \\space και \\space μ_r=1: \\\\\n",
    "\\mid \\tilde {H'} \\mid = \\sqrt {\\frac {ε_rε_0}{μ_rμ_0}} \\mid E_x \\mid = \\frac{\\mid E_x \\mid}{η} $$"
   ]
  },
  {
   "cell_type": "code",
   "execution_count": 68,
   "id": "07b02bc8",
   "metadata": {},
   "outputs": [
    {
     "name": "stdout",
     "output_type": "stream",
     "text": [
      "\u001b[1mH_nab2 = 0.00265 A/m = 2.65 mA/m\u001b[0m\n"
     ]
    }
   ],
   "source": [
    "H_nab2 = np.sqrt((ε_r*ε_0)/(μ_r*μ_0))*E_x\n",
    "print (color.BOLD + 'H_nab2 =', '%.5f' % H_nab2, 'A/m', '=', '%.2f' % (H_nab2*1000),'mA/m' + color.END)"
   ]
  },
  {
   "attachments": {},
   "cell_type": "markdown",
   "id": "f6e26143",
   "metadata": {},
   "source": [
    "$ \\mid \\tilde {H'} \\mid = 2.65 \\space mA/m $"
   ]
  },
  {
   "cell_type": "markdown",
   "id": "5351da6b",
   "metadata": {},
   "source": [
    "$$ δ) \\space Πόλωση \\space κύματος: \\\\\n",
    "Η \\space σταθερά \\space διάδοσης \\space \\vec β \\space έχει \\space κατεύθυνση \\space τον \\space άξονα \\space z \\space (e^{-iβz}), \\space \\\\\n",
    "η \\space ένταση \\space του \\space ηλεκτρικού \\space πεδίου \\space \\vec {\\tilde E} \\space έχει \\space κατεύθυνση \\space τον \\space άξονα \\space x \\space (από \\space την \\space εκφώνηση) \\\\\n",
    "και \\space η \\space ένταση \\space του \\space μαγνητικού \\space πεδίου \\space \\vec {\\tilde H} \\space έχει \\space κατεύθυνση \\space τον \\space άξονα \\space y.\n",
    "$$"
   ]
  },
  {
   "cell_type": "code",
   "execution_count": 69,
   "id": "7e178a09",
   "metadata": {},
   "outputs": [],
   "source": [
    "β = [0, 0, 1]\n",
    "E = [1, 0, 0]\n",
    "H = [0, 1, 0]"
   ]
  },
  {
   "cell_type": "code",
   "execution_count": 70,
   "id": "ece79939",
   "metadata": {},
   "outputs": [
    {
     "data": {
      "image/png": "[encoded data removed]",
      "text/plain": [
       "<Figure size 640x480 with 1 Axes>"
      ]
     },
     "metadata": {},
     "output_type": "display_data"
    }
   ],
   "source": [
    "fig = plt.figure()\n",
    "ax = plt.axes(projection = '3d')\n",
    "ax.set_xlim([-2, 2])\n",
    "ax.set_ylim([-2, 2])\n",
    "ax.set_zlim([-2, 2])\n",
    "start = [0, 0, 0]\n",
    "ax.quiver(start[0], start[1], start[2], β[0], β[1], β[2], color = 'r', label = \"E\")\n",
    "ax.quiver(start[0], start[1], start[2], E[0], E[1], E[2], color = 'g', label = \"H\")\n",
    "ax.quiver(start[0], start[1], start[2], H[0], H[1], H[2], color = 'b', label = \"β\")\n",
    "ax.set_xlabel('y')\n",
    "ax.set_ylabel('z')\n",
    "ax.set_zlabel('x')\n",
    "ax.view_init(20, 20)\n",
    "plt.legend(loc = \"best\", shadow = True)\n",
    "#plt.axis('off')\n",
    "plt.show()"
   ]
  },
  {
   "cell_type": "markdown",
   "id": "f4acc73e",
   "metadata": {},
   "source": [
    "$$ ε) \\space Μία \\space κεραία \\space πρέπει \\space να \\space έχει \\space πόλωση \\space ίδια \\space με \\space αυτή \\space του \\space εκάστοτε \\space προς \\space εξέταση \\space Η/Μ \\space κύματος, \\\\\n",
    "ώστε \\space να \\space μπορεί \\space να \\space το \\space ανιχνεύσει \\space ή \\space να\\space το \\space μεταδόσει. \\\\\n",
    "Το \\space μήκος \\space της \\space πρέπει \\space επίσης \\space να \\space είναι \\space ίδιο \\space με \\space το \\space μήκος \\space κύματος \\space του \\space σήματος \\\\\n",
    "που \\space επιθυμούμε \\space να \\space λάβει \\space ή \\space να \\space αποστείλει. $$"
   ]
  },
  {
   "cell_type": "markdown",
   "id": "297d68ca",
   "metadata": {},
   "source": [
    "$$ στ) \\space Με \\space συχνότητα \\space f=100kHz, \\space το \\space Η/Μ \\space κύμα \\space που \\space εξετάζουμε \\space βρίσκεται \\space στην \\space περιοχή \\space των \\space χαμηλών \\space συχνοτήτων \\space (Low \\space Frequency, \\space LF), \\\\\n",
    "οπότε \\space αναφερόμαστε \\space σε \\space κύμα \\space επιφανειακής \\space ή \\space ιονοσφαιρικής \\space μετάδοσης. \\\\\n",
    "Θα \\space το \\space χρησιμοποιούσαμε \\space για \\space μεταδόσεις \\space χαμηλών \\space απαιτήσεων \\space (σε \\space σχέση \\space με \\space το \\space εύρος \\space ζώνης) \\space σε \\space πολύ \\space μεγάλες \\space αποστάσεις, \\\\\n",
    "καθώς \\space τα \\space σήματα \\space χαμηλών \\space συχνοτήτων \\space αλληλεπιδρούν \\space πολύ \\space λιγότερο \\space με \\space μέσο \\space διάδοσής \\space τους, \\\\\n",
    "έχουν \\space δηλαδή \\space λιγότερες \\space απώλειες, \\space σε \\space σχέση \\space με \\space σήματα \\space υψηλότερων \\space συχνοτήτων \\space και \\\\\n",
    "μπορούμε \\space να \\space τα \\space τροφοδοτήσουμε \\space με \\space πολύ \\space μεγάλη \\space ισχύ. \\\\\n",
    "Θα \\space μπορούσαν \\space να \\space χρησιμοποιηθούν \\space για \\space παράδειγμα \\space σε \\space ραδιοφωνικές \\space μεταδόσεις \\space χαμηλής \\space ποιότητας \\\\\n",
    "πολύ \\space μεγάλων \\space αποστάσεων \\space ή \\space παλαιότερα \\space σε \\space επικοινωνίες \\space και \\space πλοήγηση \\space πλοίων.\n",
    "$$"
   ]
  },
  {
   "cell_type": "markdown",
   "id": "93c42124",
   "metadata": {},
   "source": [
    "## Άσκηση 2"
   ]
  },
  {
   "cell_type": "markdown",
   "id": "2acc200a",
   "metadata": {},
   "source": [
    "$$ Εγκάρσια \\space διατομή \\space δορυφόρου: \\space A_{Rδ} = (5+a) = (5+3) = 8 \\space (m^2) \\\\\n",
    "Κέρδος \\space κεραίας \\space εκπομπής: G_T = 20b = 20 \\cdot 0 = 0 \\space (dB) \\\\\n",
    "Κέρδος \\space κεραίας \\space λήψεως: G_R = 2(a+1) = 2(3+1) = 2 \\cdot 4 = 8 \\space (dB) \\\\\n",
    "x_{dB} = 10log(x_{W}) \\Rightarrow x_{W} = {10}^{\\frac{x_{dB}}{10}} \\\\\n",
    "Συχνότητα \\space λειτουργίας: f = 5 \\space (GHz) \\\\ εταδιδόμενη \\space ισχύς: \\space W_T = \\frac{100}{b+1} = \\frac{100}{0+1} = 100 \\space (kW) \\\\\n",
    "Θερμοκρασία \\space κεραίας \\space λήψεως: \\space T_R=  25 \\space (Κ) \\\\\n",
    "Απόσταση \\space κεραίας \\space εκπομπής \\space από \\space το \\space δέκτη: \\space d_1 = 2000+10a = 2000+10 \\cdot 3 = 2030 \\space (m) \\\\\n",
    "Απόσταση \\space κεραίας \\space λήψεως \\space από \\space το \\space δέκτη: \\space d_2 = 200+1000b = 200+1000 \\cdot 0 = 200 \\space (m) \n",
    "$$"
   ]
  },
  {
   "cell_type": "markdown",
   "id": "3a4e5041",
   "metadata": {},
   "source": [
    "$$ Εύρος \\space ζώνης \\space δέκτη: BW_R = a+1 = 3+1 = 4 \\space (kHz) $$"
   ]
  },
  {
   "cell_type": "markdown",
   "id": "56759900",
   "metadata": {},
   "source": [
    "$$ α) \\space Λόγος \\space σήματος \\space προς \\space θόρυβο \\space στην \\space έξοδο \\space της \\space κεραίας \\space δέκτη: \\space SNR_R = \\frac{S}{N} = \\frac{W_R}{N} \\\\\n",
    "Εξίσωση \\space Friis \\space για \\space κεραία \\space εκπομπής \\space και \\space παθητικό \\space δορυφόρο: \\space W_{Rδ} = A_{Rδ} \\frac{W_TG_T}{4π{d_1}^2} \\\\\n",
    "Για \\space παθητικό \\space δορυφόρο \\space και \\space κεραία \\space λήψης: \\space W_R = A_R \\frac{W_{Tδ}G_{Tδ}}{4π{d_2}^2} \\\\ G_{T,R} = \\frac{4π}{λ^2} A_{T,R} \\Rightarrow G_{Rδ} = G_{Τδ} = \\frac{4π}{λ^2} A_{Rδ} \\Rightarrow A_{Rδ} = \\frac{λ^2}{4π} G_R\\\\\n",
    "W_R = W_{Tδ} \\frac{G_{Tδ}}{4π{d_2}^2} A_{Rδ} = \\frac{W_TG_T}{4π{d_1}^2} A_{Rδ} \\cdot \\frac{ \\frac {4π}{λ^2} A_{Rδ} }{4π{d_2}^2} \\cdot \\frac{λ^2}{4π} G_R = \\frac{W_TG_TG_R{A_{Rδ}}^2}{{(4π)}^2{(d_1d_2)}^2}, \\\\\n",
    "N = k_BT_RBW_R, \\space σταθερά \\space Boltzmann: \\space k_B = 1.380649 \\cdot 10^{-23} \\space (\\frac{m^2kg}{s^2K}) $$"
   ]
  },
  {
   "cell_type": "code",
   "execution_count": 71,
   "id": "64e358a7",
   "metadata": {},
   "outputs": [
    {
     "name": "stdout",
     "output_type": "stream",
     "text": [
      "\u001b[1mG_R = 6.31\u001b[0m\n",
      "\u001b[1mG_T = 1\u001b[0m\n",
      "\u001b[1mλ = 0.05996 m = 59.96 mm\u001b[0m\n"
     ]
    }
   ],
   "source": [
    "σ = A_Rδ = 8\n",
    "# log(1) = 0\n",
    "G_T_dB = 0\n",
    "G_T = 10**((G_T_dB)/10)\n",
    "# G_R_dB = 10log(G_R)\n",
    "G_R_dB = 8\n",
    "G_R = 10**((G_R_dB)/10)\n",
    "# λ = 2π/β\n",
    "f = 5*10**9\n",
    "λ = 1/(np.sqrt(μ_0*ε_0)*f)\n",
    "W_T = 100*10**3\n",
    "T_R = 25\n",
    "d_1 = 2030\n",
    "d_2 = 200\n",
    "BW_R = 4*10**3\n",
    "k_B = 1.380649*10**(-23)\n",
    "print (color.BOLD + 'G_R =', '%.2f' % (G_R) + color.END)\n",
    "print (color.BOLD + 'G_T =', '%.0f' % (G_T) + color.END)\n",
    "print (color.BOLD + 'λ =', '%.5f' % λ, 'm', '=', '%.2f' % (λ*10**3),'mm' + color.END)"
   ]
  },
  {
   "attachments": {},
   "cell_type": "markdown",
   "id": "d652afe5",
   "metadata": {},
   "source": [
    "$ G_R = 6.31 \\\\\n",
    "G_T = 1 \\\\\n",
    "λ = 59.96 \\space mm $"
   ]
  },
  {
   "cell_type": "code",
   "execution_count": 72,
   "id": "9eb5e718",
   "metadata": {},
   "outputs": [
    {
     "name": "stdout",
     "output_type": "stream",
     "text": [
      "\u001b[1mW_R = 1.5513442444747373e-06 W = 1.55 μW\u001b[0m\n",
      "\u001b[1mW_R_dB = -58.09 dB\u001b[0m\n"
     ]
    }
   ],
   "source": [
    "W_R = (W_T*G_T*G_R*A_Rδ**2)/((4*np.pi)**2*(d_1*d_2)**2)\n",
    "print (color.BOLD + 'W_R =', W_R, 'W', '=', '%.2f' % (W_R*10**6),'μW' + color.END)\n",
    "W_R_dB = 10*math.log10(W_R)\n",
    "print (color.BOLD + 'W_R_dB =', '%.2f' % W_R_dB, 'dB' + color.END)"
   ]
  },
  {
   "attachments": {},
   "cell_type": "markdown",
   "id": "024dd870",
   "metadata": {},
   "source": [
    "$ W_R = 1.55 \\space μW \\\\\n",
    "W_{R_{dB}} = -58.09 \\space dB $"
   ]
  },
  {
   "cell_type": "code",
   "execution_count": 73,
   "id": "c0c5f1da",
   "metadata": {},
   "outputs": [
    {
     "name": "stdout",
     "output_type": "stream",
     "text": [
      "\u001b[1mN = 1.3806490000000001e-18 W = 1.38 aW\u001b[0m\n",
      "\u001b[1mN_dB = -178.60 dB\u001b[0m\n"
     ]
    }
   ],
   "source": [
    "N = k_B*T_R*BW_R\n",
    "print (color.BOLD + 'N =', N, 'W', '=', '%.2f' % (N*10**18),'aW' + color.END)\n",
    "N_dB = 10*math.log10(N)\n",
    "print (color.BOLD + 'N_dB =', '%.2f' % N_dB, 'dB' + color.END)"
   ]
  },
  {
   "attachments": {},
   "cell_type": "markdown",
   "id": "f1478346",
   "metadata": {},
   "source": [
    "$ N = 1.38 \\space aW \\\\\n",
    "N_{dB} = -178.60 \\space dB $"
   ]
  },
  {
   "cell_type": "code",
   "execution_count": 74,
   "id": "5d9816c4",
   "metadata": {},
   "outputs": [
    {
     "name": "stdout",
     "output_type": "stream",
     "text": [
      "\u001b[1mSNR_R_dB = 120.51 dB\u001b[0m\n",
      "\u001b[1mSNR_R = 1.12 e12\u001b[0m\n"
     ]
    }
   ],
   "source": [
    "SNR_R_dB = W_R_dB - N_dB\n",
    "print (color.BOLD + 'SNR_R_dB =', '%.2f' % SNR_R_dB, 'dB' + color.END)\n",
    "SNR_R = 10**((SNR_R_dB)/10)\n",
    "print (color.BOLD + 'SNR_R =', '%.2f' % (SNR_R/10**12), 'e12' + color.END)"
   ]
  },
  {
   "attachments": {},
   "cell_type": "markdown",
   "id": "19ac7b1d",
   "metadata": {},
   "source": [
    "$ SNR_{R_{dB}} = 120.51 \\space dB \\\\\n",
    "SNR_R = 1.12 \\cdot 10^{12} $"
   ]
  },
  {
   "cell_type": "markdown",
   "id": "3b31b831",
   "metadata": {},
   "source": [
    "$$ ??? \\space W_R = W_T \\frac{G_TG_Rσλ^2}{{(4π)}^2{d_1}^2{d_2}^2} \\space ??? \\\\\n",
    "Ισχύει \\space ο \\space τύπος \\space Radar \\space που \\space αντιστοιχεί \\space σε \\space τηλεπικοινωνιακό \\space σύστημα \\space στη \\space συγκεκριμένη \\space περίπτωση; $$"
   ]
  },
  {
   "cell_type": "code",
   "execution_count": 75,
   "id": "c399da58",
   "metadata": {},
   "outputs": [],
   "source": [
    "#W_R = (W_T*G_T*G_R*σ*λ**2)/((4*np.pi)**2*d_1**2*d_2**2)\n",
    "#print (W_R)\n",
    "#SNR_R = W_R/N\n",
    "#print (SNR_R)\n",
    "#SNR_R_dB = 10*math.log10(SNR_R)\n",
    "#print ('SNR_R_dB =', '%.2f' % SNR_R_dB, 'dB')"
   ]
  },
  {
   "cell_type": "markdown",
   "id": "4a2b28ee",
   "metadata": {},
   "source": [
    "$$ β) \\space Σε \\space ποιά \\space απόσταση \\space {d_2}' \\space πρέπει \\space να \\space τοποθετηθεί \\space ο \\space δέκτης \\space ώστε \\space να \\space επιτευχθεί: \\space SNR_R' = 2SNR_R \\space ; \\\\\n",
    "{W_R}' = \\frac{W_TG_TG_R{A_{Rδ}}^2}{{(4π)}^2 {(d_1{d_2}')}^2} \\Rightarrow  {d_2}' = \\sqrt { \\frac{W_TG_TG_R{A_{Rδ}}^2}{{(4π)}^2 {d_1}^2{W_R}'} } \\\\\n",
    "{W_R}' = {SNR_R}' \\cdot N \\Rightarrow {d_2}' = \\sqrt { \\frac{W_TG_TG_R{A_{Rδ}}^2}{{(4π)}^2 {d_1}^2{SNR_R}' \\cdot N} }$$"
   ]
  },
  {
   "cell_type": "code",
   "execution_count": 76,
   "id": "0542a4f0",
   "metadata": {},
   "outputs": [
    {
     "name": "stdout",
     "output_type": "stream",
     "text": [
      "\u001b[1mSNR_R_dB2 = 241.01 dB\u001b[0m\n",
      "\u001b[1mSNR_R2 = 1.26 e24\u001b[0m\n"
     ]
    }
   ],
   "source": [
    "SNR_R_dB2 = 2*SNR_R_dB\n",
    "SNR_R2 = 10**(SNR_R_dB2/10)\n",
    "print (color.BOLD + 'SNR_R_dB2 =', '%.2f' % SNR_R_dB2, 'dB' + color.END)\n",
    "print (color.BOLD + 'SNR_R2 =', '%.2f' % (SNR_R2/10**24), 'e24' + color.END)"
   ]
  },
  {
   "attachments": {},
   "cell_type": "markdown",
   "id": "43e2593c",
   "metadata": {},
   "source": [
    "$ SNR_{{R_{dB}}2} = 241.01 \\space dB \\\\\n",
    "SNR_{R2} = 1.26 \\cdot 10^{24} $"
   ]
  },
  {
   "cell_type": "code",
   "execution_count": 77,
   "id": "8a764b80",
   "metadata": {},
   "outputs": [
    {
     "name": "stdout",
     "output_type": "stream",
     "text": [
      "\u001b[1md_22 = 188.68 μm\u001b[0m\n"
     ]
    }
   ],
   "source": [
    "d_22 = np.sqrt((W_T*G_T*G_R*A_Rδ**2)/(((4*np.pi)**2)*d_1**2*SNR_R2*N))\n",
    "print (color.BOLD + 'd_22 =', '%.2f' % (d_22*10**6), 'μm' + color.END)"
   ]
  },
  {
   "attachments": {},
   "cell_type": "markdown",
   "id": "ddf46adb",
   "metadata": {},
   "source": [
    "$ d_2' = 188.68 \\space μm $"
   ]
  },
  {
   "attachments": {},
   "cell_type": "markdown",
   "id": "3fcf8104",
   "metadata": {},
   "source": [
    "$$ Η \\space κεραία \\space δέκτη \\space πρέπει \\space να \\space τοποθετηθεί \\space στα \\space 188.68 \\space μm. \\\\\n",
    "Η \\space απόσταση \\space είναι \\space τόσο \\space μικρή, \\space που \\space θεωρούμε \\space το \\space αποτέλεσμα \\space μη \\space αποδεκτό. \\\\\n",
    "Θα \\space ήταν \\space πιο \\space συνετό \\space να \\space \\space χρησιμοποιήσουμε \\space ενσύρματη \\space ζεύξη, \\space παρά \\space ασύρματη. $$"
   ]
  },
  {
   "attachments": {},
   "cell_type": "markdown",
   "id": "a4300061",
   "metadata": {},
   "source": [
    "$$ γ) \\space Ποιά \\space θα \\space πρέπει \\space να \\space είναι \\space η \\space ελάχιστη \\space εκπεμπόμενη \\space ισχύς \\space {W_T}' \\space ώστε \\space να \\space λάβει \\space ο \\space δέκτης \\space {SNR_R}\" = \\frac{1}{2} \\cdot SNR_R \\space ; \\\\\n",
    "{W_R}'' = \\frac{{W_T}'G_TG_R{A_{Rδ}}^2}{{(4π)}^2 {(d_1{d_2}')}^2} \\Rightarrow {W_T}'_{min} = \\frac{{W_R}''{(4π)}^2 {(d_1{d_2}')}^2}{G_TG_R{A_{Rδ}}^2} \\\\\n",
    "{W_R}'' = {SNR_R}'' \\cdot N \\Rightarrow {W_T}'_{min} = \\frac{{SNR_R}'' \\cdot N {(4π)}^2 {(d_1{d_2}')}^2}{G_TG_R{A_{Rδ}}^2}$$"
   ]
  },
  {
   "cell_type": "code",
   "execution_count": 78,
   "id": "589df04a",
   "metadata": {
    "scrolled": true
   },
   "outputs": [
    {
     "name": "stdout",
     "output_type": "stream",
     "text": [
      "\u001b[1mSNR_R_dB3 = 60.25 dB\u001b[0m\n",
      "\u001b[1mSNR_R3 = 1.06 e6\u001b[0m\n"
     ]
    }
   ],
   "source": [
    "SNR_R_dB3 = SNR_R_dB/2\n",
    "SNR_R3 = 10**(SNR_R_dB3/10)\n",
    "print (color.BOLD + 'SNR_R_dB3 =', '%.2f' % SNR_R_dB3, 'dB' + color.END)\n",
    "print (color.BOLD + 'SNR_R3 =', '%.2f' % (SNR_R3/10**6), 'e6' + color.END)"
   ]
  },
  {
   "attachments": {},
   "cell_type": "markdown",
   "id": "0a9b0a01",
   "metadata": {},
   "source": [
    "$ SNR_{R_{dB}}'' = 60.25 \\space dB \\\\\n",
    "SNR_R'' = 1.06 \\cdot 10^6 $"
   ]
  },
  {
   "cell_type": "code",
   "execution_count": 79,
   "id": "f4537e1b",
   "metadata": {},
   "outputs": [
    {
     "name": "stdout",
     "output_type": "stream",
     "text": [
      "\u001b[1mW_T2min = 83.96 fW\u001b[0m\n",
      "\u001b[1mW_T2min_dB = -130.76 dB\u001b[0m\n"
     ]
    }
   ],
   "source": [
    "W_T2min = (SNR_R3*N*(4*np.pi)**2*(d_1*d_22)**2)/(G_T*G_R*A_Rδ**2)\n",
    "print (color.BOLD + 'W_T2min =', '%.2f' % (W_T2min*10**15), 'fW' + color.END)\n",
    "W_T2min_dB = 10*math.log10(W_T2min)\n",
    "print (color.BOLD + 'W_T2min_dB =', '%.2f' % W_T2min_dB, 'dB' + color.END)"
   ]
  },
  {
   "attachments": {},
   "cell_type": "markdown",
   "id": "9ed325e7",
   "metadata": {},
   "source": [
    "$ W_{Tmin}' = 83.96 \\space fW \\\\\n",
    "W_{Tmin_{dB}}' = -130.76 \\space dB $"
   ]
  },
  {
   "attachments": {},
   "cell_type": "markdown",
   "id": "6c3f0fce",
   "metadata": {},
   "source": [
    "$$ Ελάχιστη \\space εκπεμπόμενη \\space ισχύς \\space 84 \\space fW. $$"
   ]
  },
  {
   "cell_type": "markdown",
   "id": "35f9a13f",
   "metadata": {},
   "source": [
    "## Άσκηση 3"
   ]
  },
  {
   "cell_type": "markdown",
   "id": "542ac16d",
   "metadata": {},
   "source": [
    "$$ Radar: \\space f = 3GHz, \\space W_T = 2.1kW, \\space G_T = 35dB $$"
   ]
  },
  {
   "cell_type": "markdown",
   "id": "1fe6ef05",
   "metadata": {},
   "source": [
    "$$ Ποιά \\space θα \\space πρέπει \\space να \\space είναι \\space η \\space ευαισθησία \\space του \\space Radar \\space ώστε \\space να \\space μπορεί \\space να \\space ανιχνεύει \\space αεροσκάφη \\space με \\space ισοδύναμη \\space επιφάνεια \\space σ=40, \\\\\n",
    "σε \\space απόσταση \\space μέχρι \\space και \\space d_{max} = 60 μίλια; $$"
   ]
  },
  {
   "cell_type": "markdown",
   "id": "4b173961",
   "metadata": {},
   "source": [
    "$$ W_{Rαεροσκάφους} = σΦ(d_1) = σ \\frac{W_{TRadar}G_{TRadar}}{4π{d_1}^2} = W_{TRadar} \\frac{A_{TRadar}σ}{{λd_1}^2}, \\space G_{T,R} = \\frac{4π}{λ^2} A_{T,R} \\\\   \n",
    "W_{RRadar} = \\frac{W_{TRadar}G_{TRadar}σ}{{(4π)}^2{(d_1d_2)}^2} A_{RRadar} \\Rightarrow W_{TRadar} \\frac{G_{TRadar}G_{RRadar}σλ^2}{{(4π)}^3{(d_1d_2)}^2} = \\\\\n",
    "W_{TRadar} \\frac{G^2σλ^2}{{(4π)}^3{d}^4}, \\space d_1 = d_2, \\space G_{TRadar} = G_{RRadar} \\\\\n",
    "W_{R,min} = W_{T} \\frac{G^2σλ^2}{{(4π)}^3{d_{max}}^4} $$"
   ]
  },
  {
   "cell_type": "code",
   "execution_count": 80,
   "id": "e9c8dbe1",
   "metadata": {},
   "outputs": [
    {
     "name": "stdout",
     "output_type": "stream",
     "text": [
      "\u001b[1mλ = 99.93 mm\u001b[0m\n",
      "\u001b[1mG_T = 3162.278 W\u001b[0m\n",
      "\u001b[1md_max = 96561 m\u001b[0m\n"
     ]
    }
   ],
   "source": [
    "f = 3*10**9\n",
    "λ = 1/(np.sqrt(μ_0*ε_0)*f)\n",
    "print (color.BOLD + 'λ =', '%.2f' % (λ*10**3) , 'mm' + color.END)\n",
    "W_T = 2.1*10**3\n",
    "G_T_dB = 35\n",
    "G_T = 10**(G_T_dB/10)\n",
    "print (color.BOLD + 'G_T =', '%.3f' % G_T , 'W' + color.END)\n",
    "σ = 40\n",
    "d_max = 60*1.609344*10**3\n",
    "print (color.BOLD + 'd_max =', '%.0f' % d_max, 'm' + color.END)"
   ]
  },
  {
   "attachments": {},
   "cell_type": "markdown",
   "id": "2b8f90cd",
   "metadata": {},
   "source": [
    "$ λ = 99.93 \\space mm \\\\\n",
    "G_T = 3162.278 \\space W \\\\\n",
    "d_{max} = 96561 \\space m $"
   ]
  },
  {
   "cell_type": "code",
   "execution_count": 81,
   "id": "56171966",
   "metadata": {},
   "outputs": [
    {
     "name": "stdout",
     "output_type": "stream",
     "text": [
      "\u001b[1mW_Rmin = 48.62 fW\u001b[0m\n",
      "\u001b[1mW_Rmin_dBm = -103.13 dBm\u001b[0m\n"
     ]
    }
   ],
   "source": [
    "W_Rmin = (W_T*G_T**2*σ*λ**2)/((4*np.pi)**3*(d_max)**4)\n",
    "print (color.BOLD + 'W_Rmin =', '%.2f' % (W_Rmin*10**15), 'fW' + color.END)\n",
    "W_Rmin_dBm = 10*math.log10(1000*W_Rmin)\n",
    "print (color.BOLD + 'W_Rmin_dBm =', '%.2f' % W_Rmin_dBm, 'dBm' + color.END)"
   ]
  },
  {
   "attachments": {},
   "cell_type": "markdown",
   "id": "a0226bb9",
   "metadata": {},
   "source": [
    "$ W_{Rmin} = 48.62 \\space fW \\\\\n",
    "W_{Rmin_{dBm}} = -103.13 \\space dBm $"
   ]
  },
  {
   "cell_type": "code",
   "execution_count": 82,
   "id": "2ce91297",
   "metadata": {},
   "outputs": [
    {
     "name": "stdout",
     "output_type": "stream",
     "text": [
      "[1.000000e+00 1.100009e+01 2.100018e+01 ... 9.999800e+05 9.999900e+05\n",
      " 1.000000e+06]\n",
      "[4.22724874e+06 2.88717327e+02 2.17353047e+01 ... 4.22758694e-18\n",
      " 4.22741783e-18 4.22724874e-18]\n"
     ]
    }
   ],
   "source": [
    "d = np.linspace (1, 10**6, 10**5)\n",
    "W_R = (W_T*G_T**2*σ*λ**2)/((4*np.pi)**3*(d**4))\n",
    "print (d)\n",
    "print (W_R)"
   ]
  },
  {
   "cell_type": "code",
   "execution_count": 83,
   "id": "3e37ea80",
   "metadata": {},
   "outputs": [
    {
     "data": {
      "text/plain": [
       "Text(0.5, 1.0, 'Διάγραμμα ευαισθησίας Radar')"
      ]
     },
     "execution_count": 83,
     "metadata": {},
     "output_type": "execute_result"
    },
    {
     "data": {
      "image/png": "[encoded data removed]",
      "text/plain": [
       "<Figure size 600x480 with 1 Axes>"
      ]
     },
     "metadata": {},
     "output_type": "display_data"
    }
   ],
   "source": [
    "fig = plt.figure(figsize=(5, 4), dpi=120)\n",
    "plt.plot(d, np.full_like(d, W_R))\n",
    "plt.yscale('log')\n",
    "plt.grid()\n",
    "plt.xlabel ('$d(m)$')\n",
    "plt.ylabel ('$W_R(W)$')\n",
    "plt.title ('Διάγραμμα ευαισθησίας Radar')"
   ]
  },
  {
   "cell_type": "markdown",
   "id": "d99c6e22",
   "metadata": {},
   "source": [
    "$$ W_{R,min} = -100(dBm) \\\\\n",
    "W_{R,min} = W_{T} \\frac{G^2σλ^2}{{(4π)}^3{d_{max}}^4} \\Rightarrow d_{max} = \\sqrt[4]{\\frac{W_TG^2σλ^2}{{(4π)}^3W_{R,min}}} $$"
   ]
  },
  {
   "cell_type": "code",
   "execution_count": 84,
   "id": "e10b7164",
   "metadata": {},
   "outputs": [
    {
     "name": "stdout",
     "output_type": "stream",
     "text": [
      "\u001b[1mW_Rmin = 1e-13 W = 100.0 fW\u001b[0m\n",
      "\u001b[1md_max = 80633 m = 80.63 km\u001b[0m\n"
     ]
    }
   ],
   "source": [
    "W_Rmin_dBm = -100\n",
    "W_Rmin = 10**((W_Rmin_dBm-30)/10)\n",
    "d_max = ((W_T*G_T**2*σ*λ**2)/((4*np.pi)**3*W_Rmin))**(1/4)\n",
    "print (color.BOLD + 'W_Rmin =', W_Rmin, 'W', '=', W_Rmin*10**15, 'fW' + color.END)\n",
    "print (color.BOLD + 'd_max =', '%.0f' % d_max, 'm' , '=', '%.2f' % (d_max/10**3), 'km' + color.END)"
   ]
  },
  {
   "attachments": {},
   "cell_type": "markdown",
   "id": "1759fe9a",
   "metadata": {},
   "source": [
    "$ W_{Rmin} = 100.0 \\space fW \\\\\n",
    "d_{max} = 80.63 \\space km $"
   ]
  }
 ],
 "metadata": {
  "celltoolbar": "Raw Cell Format",
  "kernelspec": {
   "display_name": "base",
   "language": "python",
   "name": "python3"
  },
  "language_info": {
   "codemirror_mode": {
    "name": "ipython",
    "version": 3
   },
   "file_extension": ".py",
   "mimetype": "text/x-python",
   "name": "python",
   "nbconvert_exporter": "python",
   "pygments_lexer": "ipython3",
   "version": "3.9.13"
  },
  "vscode": {
   "interpreter": {
    "hash": "f4aceed503d880ae6c9dd08b22ea8372b225c9eeb5d00813751d732e1e97c037"
   }
  }
 },
 "nbformat": 4,
 "nbformat_minor": 5
}
