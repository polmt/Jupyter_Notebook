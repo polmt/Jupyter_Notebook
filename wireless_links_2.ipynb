{
 "cells": [
  {
   "cell_type": "markdown",
   "metadata": {},
   "source": [
    "$$ Ασύρματες \\space Ζεύξεις \\space (2/2) $$"
   ]
  },
  {
   "cell_type": "markdown",
   "metadata": {},
   "source": [
    "$$ b = 3, \\space | \\space a = 0, \\space 1, \\space 2, \\space ... \\space , \\space 10 $$"
   ]
  },
  {
   "cell_type": "markdown",
   "metadata": {},
   "source": [
    "## 1)"
   ]
  },
  {
   "cell_type": "code",
   "execution_count": 1,
   "metadata": {},
   "outputs": [],
   "source": [
    "%matplotlib inline\n",
    "import matplotlib.pyplot as plt\n",
    "import numpy as np\n",
    "class color:\n",
    "   BOLD = '\\033[1m'\n",
    "   END = '\\033[0m'"
   ]
  },
  {
   "cell_type": "markdown",
   "metadata": {},
   "source": [
    "$$ Απόσταση \\space μεταξύ \\space κεραίας \\space εκπομπής \\space και \\space αιχμηρού \\space αντικειμένου: \\space d_1 = (15+0.1a) \\space km $$\n",
    "$$ Υψος \\space εμποδίου \\space πάνω \\space από \\space τον \\space οπτικό \\space άξονα: \\space h_0 = (60+0.1a) \\space m $$\n",
    "$$ (- \\frac{h_0}{r}, \\space αφού \\space βρίσκεται \\space πάνω \\space από \\space τον \\space οπτικό \\space άξονα) $$\n",
    "$$ Μήκος \\space ζεύξης: \\space d = (60+0.1a) \\space km $$\n",
    "$$ Συχνότητα \\space λειτουργίας: \\space f = 500 \\space MHz $$\n",
    "$$ Κέρδος \\space κεραίας \\space εκπομπής: \\space G_{T_{dB}} = (15+0.1b) \\space dB $$\n",
    "$$ Κέρδος \\space κεραίας \\space λήψης: \\space G_{R_{dB}} = (18+0.1b) \\space dB $$\n",
    "$$ Λαμβανόμενη \\space ισχύς: \\space W_R = 1,5 \\space nW $$\n"
   ]
  },
  {
   "cell_type": "code",
   "execution_count": 2,
   "metadata": {},
   "outputs": [
    {
     "name": "stdout",
     "output_type": "stream",
     "text": [
      "\u001b[1ma = [ 0  1  2  3  4  5  6  7  8  9 10] \u001b[0m\n",
      "\u001b[1mb = 3 \u001b[0m\n",
      "h_0 = [60.  60.1 60.2 60.3 60.4 60.5 60.6 60.7 60.8 60.9 61. ] m\n",
      "d_1=  [15.  15.1 15.2 15.3 15.4 15.5 15.6 15.7 15.8 15.9 16. ] km\n",
      "d = [60.  60.1 60.2 60.3 60.4 60.5 60.6 60.7 60.8 60.9 61. ] km\n",
      "d_2 = [45. 45. 45. 45. 45. 45. 45. 45. 45. 45. 45.] km\n",
      "\u001b[1mW_R_dB = -88.24 \u001b[0m\n",
      "\u001b[1mλ = 599.59 mm\u001b[0m\n",
      "\u001b[1mG_T = 33.88 \u001b[0m\n",
      "\u001b[1mG_R = 67.61 \u001b[0m\n"
     ]
    }
   ],
   "source": [
    "a = np.arange (0, 11, 1)\n",
    "b = 3\n",
    "h_0 = (60+0.1*a)\n",
    "d_1 = (15+0.1*a)*10**3\n",
    "d = (60+0.1*a)*10**3\n",
    "d_2 = d - d_1\n",
    "f = 500*10**6\n",
    "μ_0 = 4*np.pi*10**(-7)\n",
    "ε_0 = 8.854*10**(-12)\n",
    "λ = 1/(f*np.sqrt(μ_0*ε_0))\n",
    "G_T_dB = 15+0.1*b\n",
    "G_T = 10**(G_T_dB/10)\n",
    "G_R_dB = 18+0.1*b\n",
    "G_R = 10**(G_R_dB/10)\n",
    "W_R = 1.5*10**(-9)\n",
    "W_R_dB = 10*np.log10(W_R)\n",
    "print (color.BOLD + 'a =', a, '' + color.END)\n",
    "print (color.BOLD + 'b =', b, '' + color.END)\n",
    "print ('h_0 =', h_0, 'm')\n",
    "print ('d_1= ', (d_1/10**3), 'km')\n",
    "print ('d =', (d/10**3), 'km')\n",
    "print ('d_2 =', (d_2/10**3), 'km')\n",
    "print (color.BOLD + 'W_R_dB =', '%.2f' % W_R_dB, '' + color.END)\n",
    "print (color.BOLD + 'λ =', '%.2f' % (λ*10**3), 'mm' + color.END)\n",
    "print (color.BOLD + 'G_T =', '%.2f' % G_T, '' + color.END)\n",
    "print (color.BOLD + 'G_R =', '%.2f' % G_R, '' + color.END)"
   ]
  },
  {
   "cell_type": "markdown",
   "metadata": {},
   "source": [
    "$$ Ακτίνα \\space πρώτης \\space ζώνης \\space Fresnel, \\space σε \\space απόσταση \\space d_1 \\space από \\space τη \\space κεραία \\space εκπομπής: $$\n",
    "$$ r = \\sqrt{\\frac{d_1d_2kλ}{d_1+d_2}}, \\space k=1 \\Rightarrow r = \\sqrt{\\frac{d_1d_2λ}{d_1+d_2}} $$"
   ]
  },
  {
   "cell_type": "code",
   "execution_count": 3,
   "metadata": {},
   "outputs": [
    {
     "name": "stdout",
     "output_type": "stream",
     "text": [
      "[82.1303954  82.33512458 82.53866831 82.74103871 82.9422477  83.14230702\n",
      " 83.34122821 83.53902264 83.73570153 83.93127589 84.12575659]\n"
     ]
    }
   ],
   "source": [
    "r = np.sqrt((d_1*d_2*λ)/(d_1+d_2))\n",
    "print (r)"
   ]
  },
  {
   "cell_type": "markdown",
   "metadata": {},
   "source": [
    "$$ Λόγος: \\space -\\frac{h_0}{r} $$"
   ]
  },
  {
   "cell_type": "code",
   "execution_count": 4,
   "metadata": {},
   "outputs": [
    {
     "name": "stdout",
     "output_type": "stream",
     "text": [
      "-0.73\n"
     ]
    }
   ],
   "source": [
    "ratio = -h_0/r\n",
    "avg_ratio = np.average (ratio)\n",
    "print ('%.2f' % avg_ratio)"
   ]
  },
  {
   "cell_type": "markdown",
   "metadata": {},
   "source": [
    "$$ Συμπληρωματική \\space απώλεια \\space λόγω \\space ύπαρξης \\space εμποδίου: \\space \\mid A_d \\mid \\space \\approx \\space \\mid -14,5 \\mid \\space dB = 14,5 \\space dB, $$\n",
    "$$ από \\space το \\space διάγραμμα \\space A_D (\\frac{h_0}{r}) $$"
   ]
  },
  {
   "cell_type": "markdown",
   "metadata": {},
   "source": [
    "$$ Απώλεια \\space μετάδοσης: L_T = \\frac{W_T}{W_R} = (\\frac{4πd}{λ})^2 $$\n",
    "$$ L_{T_{dB}} = 10 \\log{L_T} $$"
   ]
  },
  {
   "cell_type": "code",
   "execution_count": 5,
   "metadata": {},
   "outputs": [
    {
     "name": "stdout",
     "output_type": "stream",
     "text": [
      "[1.58129034e+12 1.58656570e+12 1.59184985e+12 1.59714278e+12\n",
      " 1.60244450e+12 1.60775500e+12 1.61307428e+12 1.61840235e+12\n",
      " 1.62373921e+12 1.62908485e+12 1.63443927e+12]\n",
      "[121.99011619 122.00458062 122.01902101 122.03343743 122.04782996\n",
      " 122.06219868 122.07654367 122.09086501 122.10516277 122.11943704\n",
      " 122.13368788]\n"
     ]
    }
   ],
   "source": [
    "L_T = (((4*np.pi*d))/λ)**2\n",
    "L_T_dB = 10*np.log10(L_T)\n",
    "print (L_T)\n",
    "print (L_T_dB)"
   ]
  },
  {
   "cell_type": "markdown",
   "metadata": {},
   "source": [
    "$$ L_{d_{dB}} = L_{T_{dB}} + \\mid A_d \\mid - G_T - G_R $$"
   ]
  },
  {
   "cell_type": "markdown",
   "metadata": {},
   "source": [
    "$$ [\\frac{W_T}{W_R}]_{dB} = L_{d_{dB}} \\Rightarrow \\frac{W_T}{W_R} = 10^{L_{d_{dB}}/10} \\Rightarrow W_T = W_R 10^{L_{d_{dB}}/10} $$"
   ]
  },
  {
   "cell_type": "code",
   "execution_count": 6,
   "metadata": {},
   "outputs": [
    {
     "name": "stdout",
     "output_type": "stream",
     "text": [
      "[102.89011619 102.90458062 102.91902101 102.93343743 102.94782996\n",
      " 102.96219868 102.97654367 102.99086501 103.00516277 103.01943704\n",
      " 103.03368788]\n",
      "[29.18118193 29.27853359 29.37604738 29.47372328 29.5715613  29.66956143\n",
      " 29.76772369 29.86604806 29.96453455 30.06318315 30.16199388]\n",
      "[14.65102878 14.66549321 14.6799336  14.69435002 14.70874255 14.72311127\n",
      " 14.73745626 14.7517776  14.76607536 14.78034963 14.79460047]\n"
     ]
    }
   ],
   "source": [
    "A_d = 14.5\n",
    "L_d_dB = L_T_dB + A_d - G_T_dB - G_R_dB\n",
    "W_T = W_R*10**(L_d_dB/10)\n",
    "W_T_dB = 10*np.log10(W_T)\n",
    "print (L_d_dB)\n",
    "print (W_T)\n",
    "print (W_T_dB)"
   ]
  },
  {
   "cell_type": "code",
   "execution_count": 7,
   "metadata": {},
   "outputs": [
    {
     "data": {
      "text/plain": [
       "Text(0.5, 1.0, 'Διάγραμμα Ισχύος Εκπομπής')"
      ]
     },
     "execution_count": 7,
     "metadata": {},
     "output_type": "execute_result"
    },
    {
     "data": {
      "image/png": "[encoded data removed]",
      "text/plain": [
       "<Figure size 640x480 with 1 Axes>"
      ]
     },
     "metadata": {},
     "output_type": "display_data"
    }
   ],
   "source": [
    "plt.plot (a, W_T, 'r')\n",
    "plt.grid ()\n",
    "plt.xlabel ('$a$')\n",
    "plt.ylabel ('$W_T (W)$')\n",
    "plt.title ('Διάγραμμα Ισχύος Εκπομπής')"
   ]
  },
  {
   "cell_type": "code",
   "execution_count": 8,
   "metadata": {},
   "outputs": [
    {
     "data": {
      "text/plain": [
       "Text(0.5, 1.0, 'Διάγραμμα Ισχύος Εκπομπής')"
      ]
     },
     "execution_count": 8,
     "metadata": {},
     "output_type": "execute_result"
    },
    {
     "data": {
      "image/png": "[encoded data removed]",
      "text/plain": [
       "<Figure size 640x480 with 1 Axes>"
      ]
     },
     "metadata": {},
     "output_type": "display_data"
    }
   ],
   "source": [
    "plt.plot (a, W_T_dB)\n",
    "plt.grid()\n",
    "plt.xlabel ('$a$')\n",
    "plt.ylabel ('$W_T (dB)$')\n",
    "plt.title ('Διάγραμμα Ισχύος Εκπομπής')"
   ]
  },
  {
   "cell_type": "markdown",
   "metadata": {},
   "source": [
    "## 2)"
   ]
  },
  {
   "cell_type": "code",
   "execution_count": 9,
   "metadata": {},
   "outputs": [],
   "source": [
    "%matplotlib inline\n",
    "import matplotlib.pyplot as plt\n",
    "import numpy as np\n",
    "class color:\n",
    "   BOLD = '\\033[1m'\n",
    "   END = '\\033[0m'"
   ]
  },
  {
   "cell_type": "markdown",
   "metadata": {},
   "source": [
    "$$ Ύψος \\space πομπού: \\space h_T = 50 + 0.1a \\space (m) $$\n",
    "$$ Ύψος \\space δέκτη: \\space h_R = 55 +0.1a \\space (m) $$\n",
    "$$ Απόσταση \\space πομπού \\space - \\space δέκτη: \\space d = 55+0.1a \\space (km) $$\n",
    "$$ Συχνότητα \\space λειτουργίας: \\space f = 1 \\space (GHz) $$\n",
    "$$ Ισχύς \\space εκπομπής: \\space W_T = 100 \\space (W) $$\n",
    "$$ Κέρδος \\space εκπομπής: \\space G_T = 150 $$\n",
    "$$ Κέρδος \\space λήψης: \\space G_R = 170 $$\n",
    "$$ Απόσταση \\space πομπού \\space - \\space αιχμηρού \\space εμποδίου: \\space d_1 = 25 - 0.1a \\space (km) $$\n",
    "$$ Ύψος \\space εμποδίου \\space πάνω \\space από \\space τον \\space οπτικό \\space άξονα: h_0 = 200 - 0.1a \\space (m) $$\n",
    "$$ Μετεωρολογικές \\space συνθήκες: \\space Πρότυπης \\space ατμόσφαιρας, \\space K = \\frac{4}{3} \\space (80 \\% \\space του \\space χρόνου \\space λειτουργίας), $$\n",
    "$$ Υποπρότυπης \\space ατμόσφαιρας, \\space K = 1 \\space (20 \\% \\space του \\space χρόνου \\space λειτουργίας) $$"
   ]
  },
  {
   "cell_type": "code",
   "execution_count": 10,
   "metadata": {},
   "outputs": [
    {
     "name": "stdout",
     "output_type": "stream",
     "text": [
      "a = [ 0  1  2  3  4  5  6  7  8  9 10]\n",
      "h_T = [50.  50.1 50.2 50.3 50.4 50.5 50.6 50.7 50.8 50.9 51. ] m\n",
      "h_R = [75.  74.9 74.8 74.7 74.6 74.5 74.4 74.3 74.2 74.1 74. ] m\n",
      "d_1 = [25.  24.9 24.8 24.7 24.6 24.5 24.4 24.3 24.2 24.1 24. ] km\n",
      "d_2 = [30.  30.2 30.4 30.6 30.8 31.  31.2 31.4 31.6 31.8 32. ] km\n",
      "d = [55.  55.1 55.2 55.3 55.4 55.5 55.6 55.7 55.8 55.9 56. ] km\n",
      "h_0 = [200.  199.9 199.8 199.7 199.6 199.5 199.4 199.3 199.2 199.1 199. ] m\n",
      "\u001b[1mλ = 299.80 mm\u001b[0m\n",
      "\u001b[1mW_T_dB = 20.0 dB\u001b[0m\n",
      "\u001b[1mG_T_dB = 21.76 dB\u001b[0m\n",
      "\u001b[1mG_R_dB = 22.30 dB\u001b[0m\n"
     ]
    }
   ],
   "source": [
    "a = np.arange (0, 11, 1)\n",
    "h_T = 50+0.1*a\n",
    "h_R = 75-0.1*a\n",
    "f = 10**9\n",
    "μ_0 = 4*np.pi*10**(-7)\n",
    "ε_0 = 8.854*10**(-12)\n",
    "λ = 1/(np.sqrt(μ_0*ε_0)*f)\n",
    "W_T = 100\n",
    "W_T_dB = 10*np.log10(W_T)\n",
    "G_T = 150\n",
    "G_T_dB = 10*np.log10(G_T)\n",
    "G_R = 170\n",
    "G_R_dB = 10*np.log10(G_R)\n",
    "d = (55+0.1*a)*10**3\n",
    "d_1 = (25-0.1*a)*10**3\n",
    "d_2 = d - d_1\n",
    "h_0 = 200-0.1*a\n",
    "print ('a =', a)\n",
    "print ('h_T =', h_T, 'm')\n",
    "print ('h_R =', h_R, 'm')\n",
    "print ('d_1 =', d_1/10**3 ,'km')\n",
    "print ('d_2 =', d_2/10**3 ,'km')\n",
    "print ('d =', d/10**3 ,'km')\n",
    "print ('h_0 =', h_0, 'm')\n",
    "print (color.BOLD + 'λ =', '%.2f' % (λ*10**3), 'mm' + color.END)\n",
    "print (color.BOLD + 'W_T_dB =', '%.1f' % W_T_dB, 'dB' + color.END)\n",
    "print (color.BOLD + 'G_T_dB =', '%.2f' % G_T_dB, 'dB' + color.END)\n",
    "print (color.BOLD + 'G_R_dB =', '%.2f' % G_R_dB, 'dB' + color.END)"
   ]
  },
  {
   "cell_type": "markdown",
   "metadata": {},
   "source": [
    "$$ Ακτίνα \\space Γης: \\space \\frac{1}{a} \\cong 157 \\cdot 10^{-6} \\space km^{-1} \\Rightarrow a = \\frac{10^9}{157} \\space m $$"
   ]
  },
  {
   "cell_type": "code",
   "execution_count": 11,
   "metadata": {},
   "outputs": [
    {
     "name": "stdout",
     "output_type": "stream",
     "text": [
      "\u001b[1ma = 6369427 m\u001b[0m\n"
     ]
    }
   ],
   "source": [
    "a_πα = 1/157*10**6*10**3\n",
    "print (color.BOLD + 'a =', '%.0f' % a_πα, 'm' + color.END)"
   ]
  },
  {
   "cell_type": "markdown",
   "metadata": {},
   "source": [
    "$$ Ακτίνα \\space πρώτης \\space ζώνης \\space Fresnel, \\space σε \\space απόσταση \\space d_1 \\space από \\space τη \\space κεραία \\space εκπομπής: $$\n",
    "$$ r = \\sqrt{\\frac{d_1d_2kλ}{d_1+d_2}}, \\space k=1 \\Rightarrow r = \\sqrt{\\frac{d_1d_2λ}{d_1+d_2}} $$"
   ]
  },
  {
   "cell_type": "code",
   "execution_count": 12,
   "metadata": {},
   "outputs": [
    {
     "name": "stdout",
     "output_type": "stream",
     "text": [
      "64\n"
     ]
    }
   ],
   "source": [
    "r = np.sqrt((d_1*d_2*λ)/(d_1+d_2))\n",
    "avg_r = np.average (r)\n",
    "print ('%.0f' % avg_r)"
   ]
  },
  {
   "cell_type": "markdown",
   "metadata": {},
   "source": [
    "$$ Λόγος: \\space -\\frac{h_0}{r} $$"
   ]
  },
  {
   "cell_type": "code",
   "execution_count": 13,
   "metadata": {},
   "outputs": [
    {
     "name": "stdout",
     "output_type": "stream",
     "text": [
      "-3.12\n"
     ]
    }
   ],
   "source": [
    "ratio = -h_0/r\n",
    "avg_ratio = np.average (ratio)\n",
    "print ('%.2f' % avg_ratio)"
   ]
  },
  {
   "cell_type": "markdown",
   "metadata": {},
   "source": [
    "$$ Συμπληρωματική \\space απώλεια \\space λόγω \\space ύπαρξης \\space εμποδίου: \\space \\mid A_d \\mid \\space \\approx \\space \\mid -25.7 \\mid \\space dB = 25.7 \\space dB, $$\n",
    "$$ από \\space το \\space διάγραμμα \\space A_D (\\frac{h_0}{r}) $$"
   ]
  },
  {
   "cell_type": "markdown",
   "metadata": {},
   "source": [
    "$$ Απώλεια \\space μετάδοσης: L_T = \\frac{W_T}{W_R} = (\\frac{4πd}{λ})^2 $$\n",
    "$$ L_{T_{dB}} = 10 \\log{L_T} $$"
   ]
  },
  {
   "cell_type": "code",
   "execution_count": 14,
   "metadata": {},
   "outputs": [
    {
     "name": "stdout",
     "output_type": "stream",
     "text": [
      "[5.31489255e+12 5.33423700e+12 5.35361659e+12 5.37303132e+12\n",
      " 5.39248119e+12 5.41196620e+12 5.43148636e+12 5.45104165e+12\n",
      " 5.47063208e+12 5.49025765e+12 5.50991836e+12]\n",
      "[293.01533911 293.05166973 293.08793447 293.12413357 293.16026728\n",
      " 293.19633582 293.23233943 293.26827834 293.30415279 293.33996301\n",
      " 293.37570922]\n"
     ]
    }
   ],
   "source": [
    "L_T = ((4*np.pi*d)/λ)**2\n",
    "L_T_dB = 10*np.log(L_T)\n",
    "print (L_T)\n",
    "print (L_T_dB)"
   ]
  },
  {
   "cell_type": "markdown",
   "metadata": {},
   "source": [
    "$$ L_{d_{dB}} = L_{T_{dB}} + \\mid A_d \\mid - G_T - G_R $$"
   ]
  },
  {
   "cell_type": "markdown",
   "metadata": {},
   "source": [
    "$$ [\\frac{W_T}{W_R}]_{dB} = L_{d_{dB}} \\Rightarrow \\frac{W_T}{W_R} = 10^{L_{d_{dB}}/10} \\Rightarrow W_T = W_R 10^{L_{d_{dB}}/10} $$\n",
    "$$ ή \\space W_{T_{dB}} - W_{R_{dB}} = L_{d_{dB}} \\Rightarrow $$\n",
    "$$ W_{R_{dB}} = W_{T_{dB}} - L_{T_{dB}} - \\mid A_d \\mid + G_{T_{dB}} + G_{R_{dB}} $$"
   ]
  },
  {
   "cell_type": "markdown",
   "metadata": {},
   "source": [
    "$$ Ισχύς \\space λήψης \\space για \\space συνθήκες \\space πρότυπης \\space ατμόσφαιρας: $$"
   ]
  },
  {
   "cell_type": "code",
   "execution_count": 15,
   "metadata": {},
   "outputs": [
    {
     "name": "stdout",
     "output_type": "stream",
     "text": [
      "[-243.4499373  -243.48626792 -243.52253266 -243.55873177 -243.59486547\n",
      " -243.63093401 -243.66693762 -243.70287654 -243.73875099 -243.7745612\n",
      " -243.81030741]\n",
      "[4.51862468e-25 4.48098209e-25 4.44372049e-25 4.40683534e-25\n",
      " 4.37032216e-25 4.33417656e-25 4.29839416e-25 4.26297069e-25\n",
      " 4.22790190e-25 4.19318361e-25 4.15881172e-25]\n"
     ]
    }
   ],
   "source": [
    "W_R_dB = W_T_dB - L_T_dB - A_d + G_T_dB + G_R_dB\n",
    "W_R = 10**(W_R_dB/10)\n",
    "print (W_R_dB)\n",
    "print (W_R)"
   ]
  },
  {
   "cell_type": "markdown",
   "metadata": {},
   "source": [
    "$$ Διόρθωση \\space ύψους \\space εμποδίου: $$\n",
    "$$ Ανύψωση \\space δέσμης: \\space h_{0(πα)} = \\frac{d_1d_2}{2Ka}, \\space K = \\frac{4}{3} $$"
   ]
  },
  {
   "cell_type": "code",
   "execution_count": 16,
   "metadata": {},
   "outputs": [
    {
     "name": "stdout",
     "output_type": "stream",
     "text": [
      "[44.15625   44.2728225 44.38704   44.4989025 44.60841   44.7155625\n",
      " 44.82036   44.9228025 45.02289   45.1206225 45.216    ]\n"
     ]
    }
   ],
   "source": [
    "K_πα = 4/3\n",
    "h_0_πα = (d_1*d_2)/(2*K_πα*a_πα)\n",
    "print (h_0_πα)"
   ]
  },
  {
   "cell_type": "markdown",
   "metadata": {},
   "source": [
    "$$ Συνθήκες \\space υποπρότυπης \\space ατμόσφαιρας: $$"
   ]
  },
  {
   "cell_type": "markdown",
   "metadata": {},
   "source": [
    "$$ Διόρθωση \\space ύψους \\space εμποδίου: $$\n",
    "$$ Ανύψωση \\space δέσμης: \\space h_{0(υα)} = \\frac{d_1d_2}{2Ka}, \\space K = 1 $$"
   ]
  },
  {
   "cell_type": "code",
   "execution_count": 17,
   "metadata": {},
   "outputs": [
    {
     "name": "stdout",
     "output_type": "stream",
     "text": [
      "[58.875   59.03043 59.18272 59.33187 59.47788 59.62075 59.76048 59.89707\n",
      " 60.03052 60.16083 60.288  ]\n"
     ]
    }
   ],
   "source": [
    "K_υα = 1\n",
    "h_0_υα = (d_1*d_2)/(2*K_υα*a_πα)\n",
    "print (h_0_υα)"
   ]
  },
  {
   "cell_type": "markdown",
   "metadata": {},
   "source": [
    "$$ Διορθωμένο \\space ύψος \\space εμποδίου: \\space h_{0}' = h_0 + h_{0_{υα}} - h_{0_{πα}} $$\n",
    "$$ Και \\space διορθωμένος \\space λόγος \\space - \\frac{h_0'}{r} : $$"
   ]
  },
  {
   "cell_type": "code",
   "execution_count": 18,
   "metadata": {},
   "outputs": [
    {
     "name": "stdout",
     "output_type": "stream",
     "text": [
      "[214.71875   214.6576075 214.59568   214.5329675 214.46947   214.4051875\n",
      " 214.34012   214.2742675 214.20763   214.1402075 214.072    ]\n",
      "[-3.35821138 -3.35587893 -3.35363063 -3.35146556 -3.34938287 -3.34738169\n",
      " -3.34546122 -3.34362067 -3.34185927 -3.34017628 -3.33857099]\n"
     ]
    }
   ],
   "source": [
    "h_0_cor = h_0 + h_0_υα - h_0_πα\n",
    "ratio_cor = -h_0_cor/r\n",
    "print (h_0_cor)\n",
    "print (ratio_cor)"
   ]
  },
  {
   "cell_type": "markdown",
   "metadata": {},
   "source": [
    "$$ Για \\space το \\space νέο \\space λόγο \\space - \\frac {h_0'}{r}, \\space η \\space νέα \\space συμπληρωματική \\space απώλεια \\space λόγω \\space ύπαρξης \\space εμποδίου: $$\n",
    "$$ \\mid A_d \\mid \\space \\approx \\space \\mid -26 \\mid \\space dB = 26 \\space dB, $$\n",
    "$$ από \\space το \\space διάγραμμα \\space A_D (\\frac{h_0}{r}) $$"
   ]
  },
  {
   "cell_type": "markdown",
   "metadata": {},
   "source": [
    "$$ Ισχύς \\space λήψης \\space για \\space συνθήκες \\space υποπρότυπης \\space ατμόσφαιρας: $$"
   ]
  },
  {
   "cell_type": "code",
   "execution_count": 19,
   "metadata": {},
   "outputs": [
    {
     "name": "stdout",
     "output_type": "stream",
     "text": [
      "[274.9499373  274.98626792 275.02253266 275.05873177 275.09486547\n",
      " 275.13093401 275.16693762 275.20287654 275.23875099 275.2745612\n",
      " 275.31030741]\n",
      "[-254.9499373  -254.98626792 -255.02253266 -255.05873177 -255.09486547\n",
      " -255.13093401 -255.16693762 -255.20287654 -255.23875099 -255.2745612\n",
      " -255.31030741]\n",
      "[3.19894129e-26 3.17229238e-26 3.14591319e-26 3.11980050e-26\n",
      " 3.09395115e-26 3.06836202e-26 3.04303003e-26 3.01795213e-26\n",
      " 2.99312532e-26 2.96854666e-26 2.94421322e-26]\n"
     ]
    }
   ],
   "source": [
    "A_d_2 = 26\n",
    "L_d_dB_2 = L_T_dB + A_d_2 - G_T_dB - G_R_dB\n",
    "W_R_dB_2 = W_T_dB - L_d_dB_2\n",
    "W_R_2 = 10**(W_R_dB_2/10)\n",
    "print (L_d_dB_2)\n",
    "print (W_R_dB_2)\n",
    "print (W_R_2)"
   ]
  },
  {
   "cell_type": "markdown",
   "metadata": {},
   "source": [
    "$$ Ισχύς \\space λήψης \\space για \\space το \\space συνολικό \\space χρόνο \\space λειτουργίας: $$\n",
    "$$ W_{R_{avg}} = \\frac { 80 \\cdot W_{R(π.α.)} + 20 \\cdot W_{R(υ.α.)} }{100} $$"
   ]
  },
  {
   "cell_type": "code",
   "execution_count": 20,
   "metadata": {},
   "outputs": [
    {
     "name": "stdout",
     "output_type": "stream",
     "text": [
      "[3.67887857e-25 3.64823152e-25 3.61789465e-25 3.58786428e-25\n",
      " 3.55813675e-25 3.52870849e-25 3.49957593e-25 3.47073559e-25\n",
      " 3.44218402e-25 3.41391782e-25 3.38593364e-25]\n",
      "[-244.34284547 -244.37917609 -244.41544083 -244.45163994 -244.48777364\n",
      " -244.52384218 -244.55984579 -244.59578471 -244.63165915 -244.66746937\n",
      " -244.70321558]\n"
     ]
    }
   ],
   "source": [
    "W_R_avg = 0.8*W_R + 0.2*W_R_2\n",
    "W_R_avg_dB = 10*np.log10(W_R_avg)\n",
    "print (W_R_avg)\n",
    "print (W_R_avg_dB)"
   ]
  },
  {
   "cell_type": "code",
   "execution_count": 21,
   "metadata": {},
   "outputs": [
    {
     "data": {
      "text/plain": [
       "Text(0.5, 1.0, 'Διάγραμμα Ισχύος λήψης')"
      ]
     },
     "execution_count": 21,
     "metadata": {},
     "output_type": "execute_result"
    },
    {
     "data": {
      "image/png": "[encoded data removed]",
      "text/plain": [
       "<Figure size 640x480 with 1 Axes>"
      ]
     },
     "metadata": {},
     "output_type": "display_data"
    }
   ],
   "source": [
    "plt.plot (a, W_R, 'r', label = '$W_{R(π.α.)} (K=4/3)$')\n",
    "plt.plot (a, W_R_2, 'b', label = '$W_{R(υ.α.)} (K=1)$')\n",
    "plt.plot (a, W_R_avg, 'g', label = '$W_{R{avg}}$')\n",
    "plt.legend(loc = \"best\", shadow = True)\n",
    "plt.grid ()\n",
    "plt.xlabel ('$a$')\n",
    "plt.ylabel ('$W_T (W)$')\n",
    "plt.title ('Διάγραμμα Ισχύος λήψης')"
   ]
  },
  {
   "cell_type": "code",
   "execution_count": 22,
   "metadata": {},
   "outputs": [
    {
     "data": {
      "text/plain": [
       "Text(0.5, 1.0, 'Διάγραμμα Ισχύος λήψης')"
      ]
     },
     "execution_count": 22,
     "metadata": {},
     "output_type": "execute_result"
    },
    {
     "data": {
      "image/png": "[encoded data removed]",
      "text/plain": [
       "<Figure size 640x480 with 1 Axes>"
      ]
     },
     "metadata": {},
     "output_type": "display_data"
    }
   ],
   "source": [
    "plt.plot (a, W_R_dB, 'r', label = '$W_{R(π.α.)} (K=4/3)$')\n",
    "plt.plot (a, W_R_dB_2, 'b', label = '$W_{R(υ.α.)} (K=1)$')\n",
    "plt.plot (a, W_R_avg_dB, 'g', label = '$W_{R{avg}}$')\n",
    "plt.legend(loc = \"best\", shadow = True)\n",
    "plt.grid ()\n",
    "plt.xlabel ('$a$')\n",
    "plt.ylabel ('$W_T (dB)$')\n",
    "plt.title ('Διάγραμμα Ισχύος λήψης')"
   ]
  }
 ],
 "metadata": {
  "kernelspec": {
   "display_name": "Python 3 (ipykernel)",
   "language": "python",
   "name": "python3"
  },
  "language_info": {
   "codemirror_mode": {
    "name": "ipython",
    "version": 3
   },
   "file_extension": ".py",
   "mimetype": "text/x-python",
   "name": "python",
   "nbconvert_exporter": "python",
   "pygments_lexer": "ipython3",
   "version": "3.11.5"
  },
  "vscode": {
   "interpreter": {
    "hash": "f4aceed503d880ae6c9dd08b22ea8372b225c9eeb5d00813751d732e1e97c037"
   }
  }
 },
 "nbformat": 4,
 "nbformat_minor": 2
}
